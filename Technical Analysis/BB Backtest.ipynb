{
 "cells": [
  {
   "cell_type": "code",
   "execution_count": 4,
   "metadata": {},
   "outputs": [],
   "source": [
    "import datetime as dt\n",
    "\n",
    "import pandas as pd\n",
    "\n",
    "from openbb_terminal.sdk import openbb\n",
    "import quantstats as qs\n",
    "import backtrader as bt"
   ]
  },
  {
   "cell_type": "code",
   "execution_count": 5,
   "metadata": {},
   "outputs": [],
   "source": [
    "def openbb_data_to_bt_data(symbol, start_date, end_date):\n",
    "    \n",
    "    df = openbb.stocks.load(symbol, start_date=start_date, end_date=end_date)\n",
    "    \n",
    "    \n",
    "\n",
    "    fn = f\"{symbol.lower()}.csv\"\n",
    "    df.to_csv(fn)\n",
    "    \n",
    "    return bt.feeds.YahooFinanceCSVData(\n",
    "        dataname=fn,\n",
    "        fromdate=dt.datetime.strptime(start_date, '%Y-%m-%d'),\n",
    "        todate=dt.datetime.strptime(end_date, '%Y-%m-%d')\n",
    "    )"
   ]
  },
  {
   "cell_type": "code",
   "execution_count": 11,
   "metadata": {},
   "outputs": [],
   "source": [
    "# Define the Bollinger Bands strategy\n",
    "class BollingerBandsStrategy(bt.Strategy):\n",
    "    params = (('period', 20), ('devfactor', 2.0),)\n",
    "\n",
    "    def __init__(self):\n",
    "        self.boll = bt.indicators.BollingerBands(self.data.close, period=self.p.period, devfactor=self.p.devfactor)\n",
    "\n",
    "    def next(self):\n",
    "        if self.position.size:\n",
    "            if self.data.close[0] >= self.boll.lines.top:\n",
    "                self.sell()\n",
    "            elif self.data.close[0] <= self.boll.lines.bot:\n",
    "                self.buy()\n",
    "        elif self.data.close[0] <= self.boll.lines.mid:\n",
    "            self.buy()\n",
    "        elif self.data.close[0] >= self.boll.lines.mid:\n",
    "            self.sell()"
   ]
  },
  {
   "cell_type": "code",
   "execution_count": 13,
   "metadata": {},
   "outputs": [
    {
     "data": {
      "text/html": [
       "<pre style=\"white-space:pre;overflow-x:auto;line-height:normal;font-family:Menlo,'DejaVu Sans Mono',consolas,'Courier New',monospace\">Loading Daily data for RTX with starting period 2021-01-04.\n",
       "</pre>\n"
      ],
      "text/plain": [
       "Loading Daily data for RTX with starting period 2021-01-04.\n"
      ]
     },
     "metadata": {},
     "output_type": "display_data"
    }
   ],
   "source": [
    "data = openbb_data_to_bt_data(\n",
    "    \"RTX\", \n",
    "    start_date=\"2021-01-01\",\n",
    "    end_date=\"2023-06-29\"\n",
    ")\n",
    "\n",
    "cerebro = bt.Cerebro(stdstats=False)\n",
    "\n",
    "cerebro.adddata(data)\n",
    "cerebro.broker.setcash(1000.0)\n",
    "\n",
    "cerebro.addstrategy(BollingerBandsStrategy)\n",
    "\n",
    "cerebro.addobserver(bt.observers.Value)\n",
    "\n",
    "cerebro.addanalyzer(\n",
    "    bt.analyzers.Returns, _name=\"returns\"\n",
    ")\n",
    "cerebro.addanalyzer(\n",
    "    bt.analyzers.TimeReturn, _name=\"time_return\"\n",
    ")\n",
    "\n",
    "backtest_result = cerebro.run()"
   ]
  },
  {
   "cell_type": "code",
   "execution_count": 15,
   "metadata": {},
   "outputs": [],
   "source": [
    "# Get the strategy returns as a dictionary\n",
    "returns_dict = backtest_result[0].analyzers.time_return.get_analysis()\n",
    "\n",
    "# Convert the dictionary to a DataFrame\n",
    "returns_df = (\n",
    "    pd.DataFrame(\n",
    "        list(returns_dict.items()),\n",
    "        columns = [\"date\", \"return\"]\n",
    "    )\n",
    "    .set_index(\"date\")\n",
    ")"
   ]
  },
  {
   "cell_type": "code",
   "execution_count": 16,
   "metadata": {},
   "outputs": [
    {
     "data": {
      "text/html": [
       "<pre style=\"white-space:pre;overflow-x:auto;line-height:normal;font-family:Menlo,'DejaVu Sans Mono',consolas,'Courier New',monospace\">Loading Daily data for RTX with starting period 2021-01-04.\n",
       "</pre>\n"
      ],
      "text/plain": [
       "Loading Daily data for RTX with starting period 2021-01-04.\n"
      ]
     },
     "metadata": {},
     "output_type": "display_data"
    },
    {
     "name": "stdout",
     "output_type": "stream",
     "text": [
      "                           Strategy    Benchmark\n",
      "-------------------------  ----------  -----------\n",
      "Start Period               2021-01-04  2021-01-04\n",
      "End Period                 2023-06-28  2023-06-28\n",
      "Risk-Free Rate             0.0%        0.0%\n",
      "Time in Market             97.0%       100.0%\n",
      "\n",
      "Cumulative Return          -2.95%      48.58%\n",
      "CAGR﹪                     -1.2%       17.31%\n",
      "\n",
      "Sharpe                     0.08        0.8\n",
      "Prob. Sharpe Ratio         54.77%      89.62%\n",
      "Smart Sharpe               0.07        0.77\n",
      "Sortino                    0.11        1.2\n",
      "Smart Sortino              0.11        1.16\n",
      "Sortino/√2                 0.08        0.85\n",
      "Smart Sortino/√2           0.08        0.82\n",
      "Omega                      1.01        1.01\n",
      "\n",
      "Max Drawdown               -26.52%     -21.92%\n",
      "Longest DD Days            449         361\n",
      "Volatility (ann.)          25.01%      23.43%\n",
      "R^2                        0.72        0.72\n",
      "Information Ratio          -0.02       -0.02\n",
      "Calmar                     -0.05       0.79\n",
      "Skew                       0.48        0.14\n",
      "Kurtosis                   3.24        1.12\n",
      "\n",
      "Expected Daily %           -0.0%       0.06%\n",
      "Expected Monthly %         -0.1%       1.33%\n",
      "Expected Yearly %          -0.99%      14.11%\n",
      "Kelly Criterion            34.82%      50.83%\n",
      "Risk of Ruin               0.0%        0.0%\n",
      "Daily Value-at-Risk        -2.58%      -2.35%\n",
      "Expected Shortfall (cVaR)  -2.58%      -2.35%\n",
      "\n",
      "Max Consecutive Wins       8           7\n",
      "Max Consecutive Losses     7           8\n",
      "Gain/Pain Ratio            0.01        0.14\n",
      "Gain/Pain (1M)             0.08        0.97\n",
      "\n",
      "Payoff Ratio               3.97        40.44\n",
      "Profit Factor              1.01        1.14\n",
      "Common Sense Ratio         0.99        1.41\n",
      "CPC Index                  1.93        24.07\n",
      "Tail Ratio                 0.98        1.23\n",
      "Outlier Win Ratio          4.19        3.97\n",
      "Outlier Loss Ratio         3.9         3.76\n",
      "\n",
      "MTD                        -5.59%      4.05%\n",
      "3M                         4.82%       -0.47%\n",
      "6M                         11.56%      -2.68%\n",
      "YTD                        14.5%       -3.89%\n",
      "1Y                         1.0%        3.5%\n",
      "3Y (ann.)                  -1.2%       17.31%\n",
      "5Y (ann.)                  -1.2%       17.31%\n",
      "10Y (ann.)                 -1.2%       17.31%\n",
      "All-time (ann.)            -1.2%       17.31%\n",
      "\n",
      "Best Day                   7.38%       4.97%\n",
      "Worst Day                  -5.4%       -5.02%\n",
      "Best Month                 14.77%      15.83%\n",
      "Worst Month                -12.33%     -8.79%\n",
      "Best Year                  14.5%       28.81%\n",
      "Worst Year                 -13.29%     -3.89%\n",
      "\n",
      "Avg. Drawdown              -7.29%      -4.27%\n",
      "Avg. Drawdown Days         106         33\n",
      "Recovery Factor            -0.11       2.22\n",
      "Ulcer Index                0.1         0.07\n",
      "Serenity Index             -0.02       0.75\n",
      "\n",
      "Avg. Up Month              0.96%       8.55%\n",
      "Avg. Down Month            -           -\n",
      "Win Days %                 47.92%      52.02%\n",
      "Win Month %                44.83%      56.67%\n",
      "Win Quarter %              70.0%       60.0%\n",
      "Win Year %                 33.33%      66.67%\n",
      "\n",
      "Beta                       -0.91       -\n",
      "Alpha                      0.19        -\n",
      "Correlation                -84.87%     -\n",
      "Treynor Ratio              3.26%       -\n"
     ]
    }
   ],
   "source": [
    "bench = openbb.stocks.load(\n",
    "    \"RTX\",\n",
    "    start_date=\"2021-01-01\",\n",
    "    end_date=\"2023-06-29\"\n",
    ")[\"Adj Close\"]\n",
    "\n",
    "qs.reports.metrics(\n",
    "    returns_df,\n",
    "    benchmark=bench,\n",
    "    mode=\"full\"\n",
    ")"
   ]
  }
 ],
 "metadata": {
  "kernelspec": {
   "display_name": "AceQuantLAB",
   "language": "python",
   "name": "python3"
  },
  "language_info": {
   "codemirror_mode": {
    "name": "ipython",
    "version": 3
   },
   "file_extension": ".py",
   "mimetype": "text/x-python",
   "name": "python",
   "nbconvert_exporter": "python",
   "pygments_lexer": "ipython3",
   "version": "3.9.16"
  },
  "orig_nbformat": 4,
  "vscode": {
   "interpreter": {
    "hash": "1e9edbdff4de475d5d7e989f9005b51efbff423ae96b3d8150dede5c249c3b4b"
   }
  }
 },
 "nbformat": 4,
 "nbformat_minor": 2
}
